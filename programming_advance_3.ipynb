{
 "cells": [
  {
   "cell_type": "code",
   "execution_count": 11,
   "metadata": {},
   "outputs": [],
   "source": [
    "#1a)\n",
    "import operator\n",
    "def arithmetic_operation(expression):\n",
    "    \n",
    "\n",
    "    ops = {\n",
    "        '+' : operator.add,\n",
    "        '-' : operator.sub,\n",
    "        '*' : operator.mul,\n",
    "        '/' : operator.truediv\n",
    "    }\n",
    "    \n",
    "    l = list(expression.split(\" \"))\n",
    "    \n",
    "    return ops[l[1]](int(l[0]), int(l[2]))\n",
    "    \n",
    "    "
   ]
  },
  {
   "cell_type": "code",
   "execution_count": 12,
   "metadata": {},
   "outputs": [
    {
     "data": {
      "text/plain": [
       "-7"
      ]
     },
     "execution_count": 12,
     "metadata": {},
     "output_type": "execute_result"
    }
   ],
   "source": [
    "arithmetic_operation(\"1 - 8\")"
   ]
  },
  {
   "cell_type": "code",
   "execution_count": 15,
   "metadata": {},
   "outputs": [],
   "source": [
    "#2a)\n",
    "import math\n",
    "from itertools import combinations\n",
    "def perimeter(values):\n",
    "    sum = 0\n",
    "    comb = combinations(values,2)\n",
    "    for i in comb:\n",
    "        sum += math.sqrt((i[0][0]-i[1][0])**2 + (i[0][1]-i[1][1])**2)\n",
    "    return sum   "
   ]
  },
  {
   "cell_type": "code",
   "execution_count": 16,
   "metadata": {},
   "outputs": [
    {
     "data": {
      "text/plain": [
       "47.07918859608948"
      ]
     },
     "execution_count": 16,
     "metadata": {},
     "output_type": "execute_result"
    }
   ],
   "source": [
    "perimeter([[15,7],[5,22],[11,1]])"
   ]
  },
  {
   "cell_type": "code",
   "execution_count": 20,
   "metadata": {},
   "outputs": [],
   "source": [
    "#3a)\n",
    "def tallest_skyscraper(values):\n",
    "    for index,i in enumerate(values):\n",
    "        if sum(i) >0:\n",
    "            return 4 - index"
   ]
  },
  {
   "cell_type": "code",
   "execution_count": 22,
   "metadata": {},
   "outputs": [
    {
     "data": {
      "text/plain": [
       "4"
      ]
     },
     "execution_count": 22,
     "metadata": {},
     "output_type": "execute_result"
    }
   ],
   "source": [
    "tallest_skyscraper([\n",
    "  [0, 0, 1, 0],\n",
    "  [0, 1, 0, 0],\n",
    "  [0, 1, 1, 0],\n",
    "  [1, 1, 1, 1]\n",
    "]) \n"
   ]
  },
  {
   "cell_type": "code",
   "execution_count": 31,
   "metadata": {},
   "outputs": [],
   "source": [
    "#4a)\n",
    "def bonus(days):\n",
    "    total = 0\n",
    "    if days >=0 :\n",
    "           total+= 32*0\n",
    "\n",
    "           if days>32 :\n",
    "               if days<40: \n",
    "                  total+= abs(32-days)*325\n",
    "               else:\n",
    "                  total+= 8*325\n",
    "\n",
    "               if days>40: \n",
    "                    if days<48:\n",
    "                        total+= abs(40- days)*550\n",
    "                    else:\n",
    "                        total+= 8*550\n",
    "\n",
    "                    if days>48:\n",
    "                        total += abs(days - 48)*600\n",
    "    return total"
   ]
  },
  {
   "cell_type": "code",
   "execution_count": 34,
   "metadata": {},
   "outputs": [
    {
     "data": {
      "text/plain": [
       "8200"
      ]
     },
     "execution_count": 34,
     "metadata": {},
     "output_type": "execute_result"
    }
   ],
   "source": [
    "bonus(50)"
   ]
  },
  {
   "cell_type": "code",
   "execution_count": 40,
   "metadata": {},
   "outputs": [],
   "source": [
    "#5a)\n",
    "def is_Disarium(number):\n",
    "    if (int(number[0])**1 + int(number[1])**2+int(number[2])**3) == int(number):\n",
    "         return True\n",
    "    else:\n",
    "        return False\n",
    "        "
   ]
  },
  {
   "cell_type": "code",
   "execution_count": 41,
   "metadata": {},
   "outputs": [
    {
     "name": "stdout",
     "output_type": "stream",
     "text": [
      "135\n"
     ]
    },
    {
     "data": {
      "text/plain": [
       "True"
      ]
     },
     "execution_count": 41,
     "metadata": {},
     "output_type": "execute_result"
    }
   ],
   "source": [
    "is_Disarium(input())"
   ]
  },
  {
   "cell_type": "code",
   "execution_count": null,
   "metadata": {},
   "outputs": [],
   "source": []
  }
 ],
 "metadata": {
  "kernelspec": {
   "display_name": "Python 3",
   "language": "python",
   "name": "python3"
  },
  "language_info": {
   "codemirror_mode": {
    "name": "ipython",
    "version": 3
   },
   "file_extension": ".py",
   "mimetype": "text/x-python",
   "name": "python",
   "nbconvert_exporter": "python",
   "pygments_lexer": "ipython3",
   "version": "3.8.3"
  }
 },
 "nbformat": 4,
 "nbformat_minor": 4
}
